{
 "cells": [
  {
   "cell_type": "markdown",
   "id": "b2e903d6",
   "metadata": {},
   "source": [
    "# Übung 03.07.2025"
   ]
  },
  {
   "cell_type": "markdown",
   "id": "ab44d3f7",
   "metadata": {},
   "source": [
    "## Sieb des Eratosthenes\n",
    "\n",
    "Das Sieb von Eratosthenes ist ein Algorithmus, um alle Primzahlen bis zu einer \n",
    "gewissen Grenze zu finden.\n",
    "\n",
    "\"Zuerst wird die Zahl 1 gestrichen. Die Zahl 2 wird umkreist und dann alle \n",
    "Vielfachen von ihr gestrichen. Dann wird die nach der 2 nächste nicht gestrichene \n",
    "Zahl, die 3, umkreist und alle Vielfachen von ihr gestrichen. Jetzt wird die \n",
    "nach der 3 nächste freie Zahl umkreist (die 5) und ihre Vielfachen gestrichen, \n",
    "usw.\" \n",
    "\n",
    "### a) händische Lösung\n",
    "\n",
    "Zeichnen Sie die Zahlen 1-50 auf und wenden Sie den Algorithmus wie oben beschrieben an.\n",
    "\n",
    "![](primzahlen1.jpg)\n",
    "\n",
    "### b) FLussdiagramm\n",
    "\n",
    "In der [Vorlesung](https://firedynamics.github.io/Vorlesung_Ingenieurinformatik/output/book/books/a-algorithmen/skript/umsetzung.html)\n",
    "haben wir zwei Möglichkeiten kennengelernt, wie man auf vernünftige Weise von der Idee bzw. \n",
    "einem Algorithmus zu fertigem Programmcode kommt. \n",
    "\n",
    "\n",
    "### Aufgabe\n",
    "\n",
    "Erstellen Sie sich eine Liste `Menge` mit den ganzen Zahlen von 2 bis $N$. Hier \n",
    "soll $N$ beliebig gewählt werden können (Variable). Ermitteln Sie aus dieser \n",
    "Menge an Zahlen, alle Primzahlen und sammeln sie diese in einer neuen Liste `Primzahlen`.\n",
    "Gehen Sie dafür wie folgt vor:\n",
    "* Nehmen Sie die kleinste Zahl aus `Menge`.\n",
    "* Speichern Sie diese in `Primzahlen`.\n",
    "* Entfernen Sie alle ganzzahligen Vielfachen dieser Zahl aus `Menge`. \n",
    "* Wiederholen Sie diese Schritte, bis `Menge` keine Zahlen mehr enthält.\n",
    "\n",
    "\n",
    "### Hinweise:\n",
    "\n",
    "- Man kann Listen mit `range()` erstellen, in verschiedenen Intervallen.\n",
    "- Elemente einer Liste lassen sich über ihren Index ansprechen.\n",
    "- Folgende Listenoperationen sind hier interessant: `list.append()`, `list.pop()`, `list.index()`"
   ]
  },
  {
   "cell_type": "markdown",
   "id": "ef33d1a9",
   "metadata": {},
   "source": []
  },
  {
   "cell_type": "markdown",
   "id": "2240fb85",
   "metadata": {},
   "source": []
  }
 ],
 "metadata": {
  "language_info": {
   "name": "python"
  }
 },
 "nbformat": 4,
 "nbformat_minor": 5
}
